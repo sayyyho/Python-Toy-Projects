{
 "cells": [
  {
   "cell_type": "code",
   "execution_count": 1,
   "id": "1433050b-5a26-4524-8d71-651774b070aa",
   "metadata": {},
   "outputs": [],
   "source": [
    "import pandas as pd\n",
    "import numpy as np\n",
    "from bs4 import BeautifulSoup\n",
    "import time\n",
    "import pandas as pd\n",
    "import matplotlib.pyplot as plt\n",
    "from selenium import webdriver\n",
    "from selenium.webdriver.support.ui import Select\n",
    "from selenium.webdriver.support import expected_conditions as EC\n",
    "from selenium.webdriver.common.by import By"
   ]
  },
  {
   "cell_type": "code",
   "execution_count": 2,
   "id": "378a6e2c-dc6b-4dd2-862a-131925b95318",
   "metadata": {},
   "outputs": [
    {
     "name": "stdout",
     "output_type": "stream",
     "text": [
      "=========홈팀 번호를 입력해주세요!!! ===========\n",
      "원주 DB - 0\n",
      "서울 삼성 - 1\n",
      "서울 SK - 2\n",
      "창원 LG - 3\n",
      "고양 소노 - 4\n",
      "부산 KCC - 5\n",
      "안양 정관장 - 6\n",
      "수원 KT - 7\n",
      "대구 한국가스공사 - 8\n",
      "울산 현대모비스 - 9\n",
      "상무 - 10\n"
     ]
    },
    {
     "name": "stdin",
     "output_type": "stream",
     "text": [
      " 1\n"
     ]
    },
    {
     "name": "stdout",
     "output_type": "stream",
     "text": [
      "=========원정팀 번호를 입력해주세요!!! ===========\n",
      "원주 DB - 0\n",
      "서울 삼성 - 1\n",
      "서울 SK - 2\n",
      "창원 LG - 3\n",
      "고양 소노 - 4\n",
      "부산 KCC - 5\n",
      "안양 정관장 - 6\n",
      "수원 KT - 7\n",
      "대구 한국가스공사 - 8\n",
      "울산 현대모비스 - 9\n",
      "상무 - 10\n"
     ]
    },
    {
     "name": "stdin",
     "output_type": "stream",
     "text": [
      " 2\n"
     ]
    },
    {
     "name": "stdout",
     "output_type": "stream",
     "text": [
      "[[], ['77.9', '75.0', '득점(PTS)', '82.6', '80.0'], ['37.7', '40.2', '리바운드(REB)', '37.6', '36.7'], ['16.9', '16.2', '어시스트(AST)', '21.8', '18.0'], ['5.0', '4.0', '스틸(STL)', '8.2', '7.3'], ['2.1', '2.0', '블록(BS)', '4.6', '2.5'], ['22.4', '19.6', '2점(2P)', '27.6', '24.3'], ['49.3', '44.3', '2점 성공률(2P%)', '52.1', '50.1'], ['6.8', '7.8', '3점(3P)', '5.8', '6.8'], ['28.7', '30.7', '3점 성공률(3P%)', '26.9', '31.8'], ['12.6', '12.4', '자유투(FT)', '10.0', '11.0'], ['68.8', '78.5', '자유투 성공률(FT%)', '73.5', '72.6']]\n"
     ]
    }
   ],
   "source": [
    "team_list = [\"원주 DB\", \"서울 삼성\", \"서울 SK\", \"창원 LG\", \"고양 소노\", \"부산 KCC\", \"안양 정관장\", \"수원 KT\", \"대구 한국가스공사\", \"울산 현대모비스\", \"상무\"]\n",
    "print(\"=========홈팀 번호를 입력해주세요!!! ===========\")\n",
    "team_num = 0\n",
    "for team in team_list: \n",
    "    print(f\"{team} - {team_num}\")\n",
    "    team_num +=1\n",
    "team1 = int(input())\n",
    "print(\"=========원정팀 번호를 입력해주세요!!! ===========\")\n",
    "team_num = 0\n",
    "for team in team_list: \n",
    "    print(f\"{team} - {team_num}\")\n",
    "    team_num +=1\n",
    "team2 = int(input())\n",
    "\n",
    "url = \"https://www.kbl.or.kr/game/compare-team\"\n",
    "driver = webdriver.Chrome()\n",
    "driver.get(url)\n",
    "\n",
    "select_element = driver.find_element(By.XPATH, '//ul[@class=\"filter-wrap\"]/li[3]//select')\n",
    "\n",
    "select = Select(select_element)\n",
    "select.select_by_value(team_list[team1])\n",
    "\n",
    "select_element = driver.find_element(By.XPATH, '//ul[@class=\"filter-wrap\"]/li[4]//select')\n",
    "\n",
    "select = Select(select_element)\n",
    "select.select_by_value(team_list[team2])\n",
    "\n",
    "time.sleep(2)\n",
    "\n",
    "\n",
    "page_source = driver.page_source\n",
    "\n",
    "# BeautifulSoup으로 파싱\n",
    "soup = BeautifulSoup(page_source, 'html.parser')\n",
    "\n",
    "# 하위 3번째 div에서 테이블 선택\n",
    "table = soup.select('div.con-box:nth-of-type(3) table')[0]\n",
    "\n",
    "\n",
    "rows = table.find_all('tr')\n",
    "data = []\n",
    "\n",
    "columnsTest = [th.text.strip() for th in rows[0].find_all('th')]\n",
    "for row in rows[1:]:\n",
    "    row_data = [td.text.strip() for td in row.find_all('td')]\n",
    "    data.append(row_data)\n",
    "\n",
    "print(data)\n",
    "driver.quit()"
   ]
  },
  {
   "cell_type": "code",
   "execution_count": 4,
   "id": "63fac674-cd63-436a-b909-3e89e8e5392f",
   "metadata": {},
   "outputs": [
    {
     "name": "stdout",
     "output_type": "stream",
     "text": [
      "  서울 삼성 시즌 평균 vs 서울 SK            기록 서울 SK 시즌 평균 vs 서울 삼성\n",
      "0        37.7     40.2     리바운드(REB)        37.6     36.7\n",
      "1        16.9     16.2     어시스트(AST)        21.8     18.0\n",
      "2         5.0      4.0       스틸(STL)         8.2      7.3\n",
      "3         2.1      2.0        블록(BS)         4.6      2.5\n",
      "4        22.4     19.6        2점(2P)        27.6     24.3\n",
      "5        49.3     44.3   2점 성공률(2P%)        52.1     50.1\n",
      "6         6.8      7.8        3점(3P)         5.8      6.8\n",
      "7        28.7     30.7   3점 성공률(3P%)        26.9     31.8\n",
      "8        12.6     12.4       자유투(FT)        10.0     11.0\n",
      "9        68.8     78.5  자유투 성공률(FT%)        73.5     72.6\n"
     ]
    }
   ],
   "source": [
    "select_team_1 = team_list[team1]\n",
    "select_team_2 = team_list[team2]\n",
    "\n",
    "\n",
    "# Pandas DataFrame 생성\n",
    "columns = [f\"{team_list[team1]} 시즌 평균\", f\"vs {team_list[team2]}\", '기록', f\"{team_list[team2]} 시즌 평균\", f\"vs {team_list[team1]}\"]\n",
    "\n",
    "df = pd.DataFrame(data, columns=columns)\n",
    "df = df.iloc[1:].reset_index(drop=True)\n",
    "\n",
    "print(df)\n",
    "data = [row for row in data if row]\n",
    "\n",
    "team_1_avg = []\n",
    "team_2_avg = []\n",
    "category = []\n",
    "team_1_opt = []\n",
    "team_2_opt = []\n",
    "rank = 0\n",
    "\n",
    "for value in data:\n",
    "    team_1_avg.append(value[0])\n",
    "    team_2_avg.append(value[3])\n",
    "    data1 = float(value[0])*0.55 + float(value[1])*0.45\n",
    "    data2 = float(value[3])*0.55 + float(value[4])*0.45\n",
    "    team_1_opt.append(data1)\n",
    "    team_2_opt.append(data2)\n",
    "    category.append(value[2])\n",
    "    if data1 > data2: rank +=1\n",
    "\n",
    "team_1_info = [float(val) for val in team_1_avg]\n",
    "team_2_info = [float(val) for val in team_2_avg]\n",
    "\n",
    "new_data = {\n",
    "    'Category': category,\n",
    "    select_team_1 : team_1_info,\n",
    "    select_team_2 : team_2_info,\n",
    "}\n",
    "\n",
    "opt_dat = {\n",
    "    'Category' : category,\n",
    "    select_team_1 : team_1_opt,\n",
    "    select_team_2 : team_2_opt,\n",
    "}\n",
    "\n"
   ]
  },
  {
   "cell_type": "code",
   "execution_count": 6,
   "id": "56e8cf8d-adfa-4663-a9d3-b49c79864977",
   "metadata": {},
   "outputs": [
    {
     "name": "stderr",
     "output_type": "stream",
     "text": [
      "/Users/sayyyho/dev/toy/kbl/kbl/lib/python3.11/site-packages/IPython/core/pylabtools.py:152: UserWarning: Glyph 46301 (\\N{HANGUL SYLLABLE DEUG}) missing from current font.\n",
      "  fig.canvas.print_figure(bytes_io, **kw)\n",
      "/Users/sayyyho/dev/toy/kbl/kbl/lib/python3.11/site-packages/IPython/core/pylabtools.py:152: UserWarning: Glyph 51216 (\\N{HANGUL SYLLABLE JEOM}) missing from current font.\n",
      "  fig.canvas.print_figure(bytes_io, **kw)\n",
      "/Users/sayyyho/dev/toy/kbl/kbl/lib/python3.11/site-packages/IPython/core/pylabtools.py:152: UserWarning: Glyph 47532 (\\N{HANGUL SYLLABLE RI}) missing from current font.\n",
      "  fig.canvas.print_figure(bytes_io, **kw)\n",
      "/Users/sayyyho/dev/toy/kbl/kbl/lib/python3.11/site-packages/IPython/core/pylabtools.py:152: UserWarning: Glyph 48148 (\\N{HANGUL SYLLABLE BA}) missing from current font.\n",
      "  fig.canvas.print_figure(bytes_io, **kw)\n",
      "/Users/sayyyho/dev/toy/kbl/kbl/lib/python3.11/site-packages/IPython/core/pylabtools.py:152: UserWarning: Glyph 50868 (\\N{HANGUL SYLLABLE UN}) missing from current font.\n",
      "  fig.canvas.print_figure(bytes_io, **kw)\n",
      "/Users/sayyyho/dev/toy/kbl/kbl/lib/python3.11/site-packages/IPython/core/pylabtools.py:152: UserWarning: Glyph 46300 (\\N{HANGUL SYLLABLE DEU}) missing from current font.\n",
      "  fig.canvas.print_figure(bytes_io, **kw)\n",
      "/Users/sayyyho/dev/toy/kbl/kbl/lib/python3.11/site-packages/IPython/core/pylabtools.py:152: UserWarning: Glyph 50612 (\\N{HANGUL SYLLABLE EO}) missing from current font.\n",
      "  fig.canvas.print_figure(bytes_io, **kw)\n",
      "/Users/sayyyho/dev/toy/kbl/kbl/lib/python3.11/site-packages/IPython/core/pylabtools.py:152: UserWarning: Glyph 49884 (\\N{HANGUL SYLLABLE SI}) missing from current font.\n",
      "  fig.canvas.print_figure(bytes_io, **kw)\n",
      "/Users/sayyyho/dev/toy/kbl/kbl/lib/python3.11/site-packages/IPython/core/pylabtools.py:152: UserWarning: Glyph 49828 (\\N{HANGUL SYLLABLE SEU}) missing from current font.\n",
      "  fig.canvas.print_figure(bytes_io, **kw)\n",
      "/Users/sayyyho/dev/toy/kbl/kbl/lib/python3.11/site-packages/IPython/core/pylabtools.py:152: UserWarning: Glyph 53944 (\\N{HANGUL SYLLABLE TEU}) missing from current font.\n",
      "  fig.canvas.print_figure(bytes_io, **kw)\n",
      "/Users/sayyyho/dev/toy/kbl/kbl/lib/python3.11/site-packages/IPython/core/pylabtools.py:152: UserWarning: Glyph 54008 (\\N{HANGUL SYLLABLE TIL}) missing from current font.\n",
      "  fig.canvas.print_figure(bytes_io, **kw)\n",
      "/Users/sayyyho/dev/toy/kbl/kbl/lib/python3.11/site-packages/IPython/core/pylabtools.py:152: UserWarning: Glyph 48660 (\\N{HANGUL SYLLABLE BEUL}) missing from current font.\n",
      "  fig.canvas.print_figure(bytes_io, **kw)\n",
      "/Users/sayyyho/dev/toy/kbl/kbl/lib/python3.11/site-packages/IPython/core/pylabtools.py:152: UserWarning: Glyph 47197 (\\N{HANGUL SYLLABLE ROG}) missing from current font.\n",
      "  fig.canvas.print_figure(bytes_io, **kw)\n",
      "/Users/sayyyho/dev/toy/kbl/kbl/lib/python3.11/site-packages/IPython/core/pylabtools.py:152: UserWarning: Glyph 49457 (\\N{HANGUL SYLLABLE SEONG}) missing from current font.\n",
      "  fig.canvas.print_figure(bytes_io, **kw)\n",
      "/Users/sayyyho/dev/toy/kbl/kbl/lib/python3.11/site-packages/IPython/core/pylabtools.py:152: UserWarning: Glyph 44277 (\\N{HANGUL SYLLABLE GONG}) missing from current font.\n",
      "  fig.canvas.print_figure(bytes_io, **kw)\n",
      "/Users/sayyyho/dev/toy/kbl/kbl/lib/python3.11/site-packages/IPython/core/pylabtools.py:152: UserWarning: Glyph 47456 (\\N{HANGUL SYLLABLE RYUL}) missing from current font.\n",
      "  fig.canvas.print_figure(bytes_io, **kw)\n",
      "/Users/sayyyho/dev/toy/kbl/kbl/lib/python3.11/site-packages/IPython/core/pylabtools.py:152: UserWarning: Glyph 51088 (\\N{HANGUL SYLLABLE JA}) missing from current font.\n",
      "  fig.canvas.print_figure(bytes_io, **kw)\n",
      "/Users/sayyyho/dev/toy/kbl/kbl/lib/python3.11/site-packages/IPython/core/pylabtools.py:152: UserWarning: Glyph 50976 (\\N{HANGUL SYLLABLE YU}) missing from current font.\n",
      "  fig.canvas.print_figure(bytes_io, **kw)\n",
      "/Users/sayyyho/dev/toy/kbl/kbl/lib/python3.11/site-packages/IPython/core/pylabtools.py:152: UserWarning: Glyph 53804 (\\N{HANGUL SYLLABLE TU}) missing from current font.\n",
      "  fig.canvas.print_figure(bytes_io, **kw)\n",
      "/Users/sayyyho/dev/toy/kbl/kbl/lib/python3.11/site-packages/IPython/core/pylabtools.py:152: UserWarning: Glyph 49436 (\\N{HANGUL SYLLABLE SEO}) missing from current font.\n",
      "  fig.canvas.print_figure(bytes_io, **kw)\n",
      "/Users/sayyyho/dev/toy/kbl/kbl/lib/python3.11/site-packages/IPython/core/pylabtools.py:152: UserWarning: Glyph 50872 (\\N{HANGUL SYLLABLE UL}) missing from current font.\n",
      "  fig.canvas.print_figure(bytes_io, **kw)\n",
      "/Users/sayyyho/dev/toy/kbl/kbl/lib/python3.11/site-packages/IPython/core/pylabtools.py:152: UserWarning: Glyph 49340 (\\N{HANGUL SYLLABLE SAM}) missing from current font.\n",
      "  fig.canvas.print_figure(bytes_io, **kw)\n"
     ]
    },
    {
     "data": {
      "image/png": "[encoded data removed]",
      "text/plain": [
       "<Figure size 600x600 with 1 Axes>"
      ]
     },
     "metadata": {},
     "output_type": "display_data"
    },
    {
     "name": "stderr",
     "output_type": "stream",
     "text": [
      "/Users/sayyyho/dev/toy/kbl/kbl/lib/python3.11/site-packages/IPython/core/pylabtools.py:152: UserWarning: Glyph 50696 (\\N{HANGUL SYLLABLE YE}) missing from current font.\n",
      "  fig.canvas.print_figure(bytes_io, **kw)\n",
      "/Users/sayyyho/dev/toy/kbl/kbl/lib/python3.11/site-packages/IPython/core/pylabtools.py:152: UserWarning: Glyph 52769 (\\N{HANGUL SYLLABLE CEUG}) missing from current font.\n",
      "  fig.canvas.print_figure(bytes_io, **kw)\n",
      "/Users/sayyyho/dev/toy/kbl/kbl/lib/python3.11/site-packages/IPython/core/pylabtools.py:152: UserWarning: Glyph 44208 (\\N{HANGUL SYLLABLE GYEOL}) missing from current font.\n",
      "  fig.canvas.print_figure(bytes_io, **kw)\n",
      "/Users/sayyyho/dev/toy/kbl/kbl/lib/python3.11/site-packages/IPython/core/pylabtools.py:152: UserWarning: Glyph 44284 (\\N{HANGUL SYLLABLE GWA}) missing from current font.\n",
      "  fig.canvas.print_figure(bytes_io, **kw)\n",
      "/Users/sayyyho/dev/toy/kbl/kbl/lib/python3.11/site-packages/IPython/core/pylabtools.py:152: UserWarning: Glyph 44033 (\\N{HANGUL SYLLABLE GAG}) missing from current font.\n",
      "  fig.canvas.print_figure(bytes_io, **kw)\n",
      "/Users/sayyyho/dev/toy/kbl/kbl/lib/python3.11/site-packages/IPython/core/pylabtools.py:152: UserWarning: Glyph 54868 (\\N{HANGUL SYLLABLE HWA}) missing from current font.\n",
      "  fig.canvas.print_figure(bytes_io, **kw)\n"
     ]
    },
    {
     "data": {
      "image/png": "[encoded data removed]",
      "text/plain": [
       "<Figure size 600x600 with 1 Axes>"
      ]
     },
     "metadata": {},
     "output_type": "display_data"
    }
   ],
   "source": [
    "df = pd.DataFrame(new_data)\n",
    "opt_df = pd.DataFrame(opt_dat)\n",
    "\n",
    "\n",
    "df.set_index('Category').plot(kind='bar', stacked=False, figsize=[6, 6], fontsize=8)\n",
    "plt.legend([select_team_1,select_team_2],fontsize=14)\n",
    "\n",
    "opt_df.set_index('Category').plot(kind='bar', stacked=False, figsize=[6, 6], fontsize=8)\n",
    "plt.legend([select_team_1,select_team_2],fontsize=14)\n",
    "plt.xlabel(\"예측 결과 시각화\")\n",
    "plt.show()"
   ]
  },
  {
   "cell_type": "code",
   "execution_count": null,
   "id": "d6c798de-fcc6-4e22-b475-0e990ee9ea71",
   "metadata": {},
   "outputs": [],
   "source": []
  }
 ],
 "metadata": {
  "kernelspec": {
   "display_name": "Python 3 (ipykernel)",
   "language": "python",
   "name": "python3"
  },
  "language_info": {
   "codemirror_mode": {
    "name": "ipython",
    "version": 3
   },
   "file_extension": ".py",
   "mimetype": "text/x-python",
   "name": "python",
   "nbconvert_exporter": "python",
   "pygments_lexer": "ipython3",
   "version": "3.11.3"
  }
 },
 "nbformat": 4,
 "nbformat_minor": 5
}
