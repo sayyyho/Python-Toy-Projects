{
 "cells": [
  {
   "cell_type": "code",
   "execution_count": 3,
   "metadata": {},
   "outputs": [],
   "source": [
    "import pandas as pd"
   ]
  },
  {
   "cell_type": "code",
   "execution_count": 4,
   "metadata": {},
   "outputs": [],
   "source": [
    "df = pd.read_csv(\"./4.csv\")"
   ]
  },
  {
   "cell_type": "code",
   "execution_count": 5,
   "metadata": {},
   "outputs": [
    {
     "name": "stdout",
     "output_type": "stream",
     "text": [
      "     열차번호     4501K     4503K     4505K      4507      4509      4511  4001  \\\n",
      "0    열차종류        AC        AC        AC        AC        AC        AC    DC   \n",
      "1     출발역        안산        금정        금정        사당     한성대입구        노원   당고개   \n",
      "2     도착역       오이도       오이도       오이도       오이도       오이도       오이도    사당   \n",
      "3     NaN       NaN       NaN       NaN       NaN       NaN       NaN   NaN   \n",
      "4      진접       NaN       NaN       NaN       NaN       NaN       NaN   NaN   \n",
      "..    ...       ...       ...       ...       ...       ...       ...   ...   \n",
      "102    정왕  05:35:30  06:16:30  06:32:30  06:48:00  07:04:30  07:17:00   NaN   \n",
      "103   NaN  05:36:00  06:17:00  06:33:00  06:48:30  07:05:00  07:17:30   NaN   \n",
      "104   오이도  05:38:30  06:19:30  06:35:30  06:51:00  07:07:30  07:20:00   NaN   \n",
      "105   NaN       NaN       NaN       NaN       NaN       NaN       NaN   NaN   \n",
      "106  연결열번      4516      4422      4426      4530      4536      4544  4010   \n",
      "\n",
      "         4513  4003  ...  4213 4343K 4215 4217 4219 4221 4223 Unnamed: 182  \\\n",
      "0          AC    DC  ...    AC    AC   DC   DC   DC   DC   DC          NaN   \n",
      "1         당고개    진접  ...   당고개   당고개   진접   진접   진접   진접   진접          NaN   \n",
      "2         오이도    사당  ...    사당    금정   사당   사당  남태령  서울역  당고개          NaN   \n",
      "3         NaN   NaN  ...   NaN   NaN  NaN  NaN  NaN  NaN  NaN          NaN   \n",
      "4         NaN   NaN  ...   NaN   NaN  NaN  NaN  NaN  NaN  NaN          NaN   \n",
      "..        ...   ...  ...   ...   ...  ...  ...  ...  ...  ...          ...   \n",
      "102  07:28:00   NaN  ...   NaN   NaN  NaN  NaN  NaN  NaN  NaN          NaN   \n",
      "103  07:28:30   NaN  ...   NaN   NaN  NaN  NaN  NaN  NaN  NaN          NaN   \n",
      "104  07:31:00   NaN  ...   NaN   NaN  NaN  NaN  NaN  NaN  NaN          NaN   \n",
      "105       NaN   NaN  ...   NaN   NaN  NaN  NaN  NaN  NaN  NaN          NaN   \n",
      "106      4540  4012  ...  4853    주박   주박   주박   주박   주박   입고          NaN   \n",
      "\n",
      "    Unnamed: 183 Unnamed: 184  \n",
      "0            NaN          NaN  \n",
      "1            NaN          NaN  \n",
      "2            NaN          NaN  \n",
      "3            NaN          NaN  \n",
      "4            NaN          NaN  \n",
      "..           ...          ...  \n",
      "102          NaN          NaN  \n",
      "103          NaN          NaN  \n",
      "104          NaN          NaN  \n",
      "105          NaN          NaN  \n",
      "106          NaN          NaN  \n",
      "\n",
      "[107 rows x 185 columns]\n"
     ]
    }
   ],
   "source": [
    "print(df)"
   ]
  },
  {
   "cell_type": "code",
   "execution_count": 26,
   "metadata": {},
   "outputs": [
    {
     "data": {
      "text/html": [
       "<div>\n",
       "<style scoped>\n",
       "    .dataframe tbody tr th:only-of-type {\n",
       "        vertical-align: middle;\n",
       "    }\n",
       "\n",
       "    .dataframe tbody tr th {\n",
       "        vertical-align: top;\n",
       "    }\n",
       "\n",
       "    .dataframe thead th {\n",
       "        text-align: right;\n",
       "    }\n",
       "</style>\n",
       "<table border=\"1\" class=\"dataframe\">\n",
       "  <thead>\n",
       "    <tr style=\"text-align: right;\">\n",
       "      <th></th>\n",
       "      <th>열차번호</th>\n",
       "      <th>4003</th>\n",
       "      <th>4007</th>\n",
       "      <th>4011</th>\n",
       "      <th>4015</th>\n",
       "      <th>4019</th>\n",
       "      <th>4023</th>\n",
       "      <th>4029</th>\n",
       "      <th>4031</th>\n",
       "      <th>4033</th>\n",
       "      <th>...</th>\n",
       "      <th>4195</th>\n",
       "      <th>4199</th>\n",
       "      <th>4201</th>\n",
       "      <th>4207</th>\n",
       "      <th>4209</th>\n",
       "      <th>4215</th>\n",
       "      <th>4217</th>\n",
       "      <th>4219</th>\n",
       "      <th>4221</th>\n",
       "      <th>4223</th>\n",
       "    </tr>\n",
       "  </thead>\n",
       "  <tbody>\n",
       "    <tr>\n",
       "      <th>8</th>\n",
       "      <td>별가람</td>\n",
       "      <td>05:33:30</td>\n",
       "      <td>05:54:30</td>\n",
       "      <td>06:11:00</td>\n",
       "      <td>06:27:00</td>\n",
       "      <td>06:41:00</td>\n",
       "      <td>06:59:00</td>\n",
       "      <td>07:19:00</td>\n",
       "      <td>07:29:00</td>\n",
       "      <td>07:35:30</td>\n",
       "      <td>...</td>\n",
       "      <td>21:01:00</td>\n",
       "      <td>21:31:00</td>\n",
       "      <td>21:47:00</td>\n",
       "      <td>22:19:00</td>\n",
       "      <td>22:39:00</td>\n",
       "      <td>23:22:00</td>\n",
       "      <td>23:41:00</td>\n",
       "      <td>24:03:30</td>\n",
       "      <td>24:17:30</td>\n",
       "      <td>24:34:30</td>\n",
       "    </tr>\n",
       "  </tbody>\n",
       "</table>\n",
       "<p>1 rows × 53 columns</p>\n",
       "</div>"
      ],
      "text/plain": [
       "  열차번호      4003      4007      4011      4015      4019      4023      4029  \\\n",
       "8  별가람  05:33:30  05:54:30  06:11:00  06:27:00  06:41:00  06:59:00  07:19:00   \n",
       "\n",
       "       4031      4033  ...      4195      4199      4201      4207      4209  \\\n",
       "8  07:29:00  07:35:30  ...  21:01:00  21:31:00  21:47:00  22:19:00  22:39:00   \n",
       "\n",
       "       4215      4217      4219      4221      4223  \n",
       "8  23:22:00  23:41:00  24:03:30  24:17:30  24:34:30  \n",
       "\n",
       "[1 rows x 53 columns]"
      ]
     },
     "execution_count": 26,
     "metadata": {},
     "output_type": "execute_result"
    }
   ],
   "source": [
    "# 찾고자 하는 값을 지정합니다\n",
    "target_value = '별가람'\n",
    "\n",
    "# '열차번호' 열에서 대상 값이 포함된 행을 추출합니다\n",
    "filtered_df = df[df['열차번호'].isin([target_value])]\n",
    "filtered_df = filtered_df.dropna(axis=1)\n",
    "\n",
    "# print(filtered_df.to_string(index=False))\n",
    "filtered_df"
   ]
  },
  {
   "cell_type": "code",
   "execution_count": 41,
   "metadata": {},
   "outputs": [
    {
     "name": "stdout",
     "output_type": "stream",
     "text": [
      "입력한 시간: 12:00:00\n",
      "가장 빠른 열차 시간: 2023-01-01 12:09:00\n"
     ]
    }
   ],
   "source": [
    "import pandas as pd\n",
    "\n",
    "# 주어진 데이터\n",
    "data = [\"05:33:30\", \"05:54:30\", \"06:11:00\", \"06:27:00\", \"06:41:00\", \"06:59:00\", \"07:19:00\", \"07:29:00\", \"07:35:30\",\n",
    "        \"09:32:00\", \"07:47:00\", \"07:57:00\", \"08:06:00\", \"09:43:30\", \"08:13:30\", \"10:14:00\", \"08:26:00\", \"08:38:00\",\n",
    "        \"08:44:00\", \"10:45:00\", \"09:08:00\", \"09:18:00\", \"11:15:00\", \"10:24:00\", \"10:56:30\", \"11:48:30\", \"12:09:00\",\n",
    "        \"14:45:30\", \"13:03:00\", \"13:41:30\", \"14:01:00\", \"14:57:00\", \"15:39:00\", \"18:10:00\", \"16:28:00\", \"16:45:00\",\n",
    "        \"17:34:00\", \"19:20:00\", \"18:24:00\", \"19:04:00\", \"20:01:00\", \"20:33:00\", \"21:01:00\", \"21:31:00\", \"21:47:00\",\n",
    "        \"22:19:00\", \"22:39:00\", \"23:22:00\", \"23:41:00\", \"00:03:30\", \"00:17:30\", \"00:34:30\"]\n",
    "\n",
    "# 입력한 시간\n",
    "input_time = input(\"별내별가람 파업기간 출발시간을 입력해주세요\")\n",
    "input_time += ':00'\n",
    "    \n",
    "# 주어진 데이터를 시리즈로 변환하고 datetime 형식으로 변환\n",
    "datetime_data = pd.to_datetime('20231122 ' + pd.Series(data).replace('24:', '00:'), format='%Y%m%d %H:%M:%S')\n",
    "\n",
    "# 입력한 시간을 datetime 형식으로 변환\n",
    "input_datetime = pd.to_datetime('20231122 ' + input_time, format='%Y%m%d %H:%M:%S')\n",
    "\n",
    "# 주어진 데이터 중에서 가장 가까운 시간 찾기\n",
    "closest_time = datetime_data.iloc[(datetime_data - input_datetime).abs().idxmin()]\n",
    "after_input_time = datetime_data[datetime_data > input_datetime].iloc[0]\n",
    "\n",
    "# 결과 출력\n",
    "print(\"입력한 시간:\", input_datetime.time())\n",
    "print(\"가장 빠른 열차 시간:\", closest_time)\n"
   ]
  },
  {
   "cell_type": "code",
   "execution_count": null,
   "metadata": {},
   "outputs": [],
   "source": []
  }
 ],
 "metadata": {
  "kernelspec": {
   "display_name": "deeplearning",
   "language": "python",
   "name": "python3"
  },
  "language_info": {
   "codemirror_mode": {
    "name": "ipython",
    "version": 3
   },
   "file_extension": ".py",
   "mimetype": "text/x-python",
   "name": "python",
   "nbconvert_exporter": "python",
   "pygments_lexer": "ipython3",
   "version": "3.10.12"
  }
 },
 "nbformat": 4,
 "nbformat_minor": 2
}
